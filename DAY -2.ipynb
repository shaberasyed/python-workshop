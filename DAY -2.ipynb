{
 "cells": [
  {
   "cell_type": "code",
   "execution_count": 1,
   "metadata": {},
   "outputs": [
    {
     "ename": "IndentationError",
     "evalue": "unexpected indent (<ipython-input-1-28e2d264d46a>, line 3)",
     "output_type": "error",
     "traceback": [
      "\u001b[1;36m  File \u001b[1;32m\"<ipython-input-1-28e2d264d46a>\"\u001b[1;36m, line \u001b[1;32m3\u001b[0m\n\u001b[1;33m    if(a==12 to 12)\u001b[0m\n\u001b[1;37m    ^\u001b[0m\n\u001b[1;31mIndentationError\u001b[0m\u001b[1;31m:\u001b[0m unexpected indent\n"
     ]
    }
   ],
   "source": [
    "# Based on time take input from user    \n",
    "a=float(input(\"Enter a value\"))\n",
    "  if(a==12 to 12)\n",
    "    print(\"Good morning\")\n",
    "  elif(a==13 to 15):\n",
    "    print(\"Good afternoon\")\n",
    "  else:\n",
    "    print(\"Good evening\")\n",
    "    "
   ]
  },
  {
   "cell_type": "code",
   "execution_count": 5,
   "metadata": {},
   "outputs": [
    {
     "name": "stdout",
     "output_type": "stream",
     "text": [
      "enter time25\n",
      "bhumis  time\n"
     ]
    }
   ],
   "source": [
    "time=float(input('enter time'))\n",
    "if time>=0.0 and time<=12.00:\n",
    "    print(time,'good morning')\n",
    "elif time>=13.00 and  time<=17.00:\n",
    "    print(time,'good afternoon')\n",
    "elif time>=18.00 and time<=22.00:\n",
    "    print(time,'good evening)\n",
    "elif time>=23.00 and  time<=24.00:\n",
    "    print(time,'good night')\n",
    "else:\n",
    "    print(\"bhumis  time\")"
   ]
  },
  {
   "cell_type": "code",
   "execution_count": 14,
   "metadata": {},
   "outputs": [
    {
     "name": "stdout",
     "output_type": "stream",
     "text": [
      "shabi\n"
     ]
    }
   ],
   "source": [
    "print('shabi')\n"
   ]
  },
  {
   "cell_type": "code",
   "execution_count": 20,
   "metadata": {},
   "outputs": [
    {
     "name": "stdout",
     "output_type": "stream",
     "text": [
      "enter value here:-b\n",
      "b is a Alphabet\n"
     ]
    }
   ],
   "source": [
    "n=input('enter value here:-')\n",
    "if (n>='a' and n<='z') or (n>='A' and n<='Z'):\n",
    "    print(n,'is a Alphabet')\n",
    "elif n>='0' and n<='9':\n",
    "    print(n,'is digit')\n",
    "else:\n",
    "    print(n,'is a special symbol')\n",
    "   \n",
    "               "
   ]
  },
  {
   "cell_type": "markdown",
   "metadata": {},
   "source": [
    "help()"
   ]
  },
  {
   "cell_type": "code",
   "execution_count": null,
   "metadata": {},
   "outputs": [],
   "source": [
    "help()"
   ]
  },
  {
   "cell_type": "code",
   "execution_count": null,
   "metadata": {},
   "outputs": [],
   "source": [
    "help()"
   ]
  },
  {
   "cell_type": "code",
   "execution_count": 5,
   "metadata": {},
   "outputs": [
    {
     "name": "stdout",
     "output_type": "stream",
     "text": [
      "enter username:-bhum\n",
      "enter password:-········\n",
      "Invalid username or password\n"
     ]
    }
   ],
   "source": [
    " from getpass import getpass\n",
    "username=input('enter username:-')\n",
    "password=getpass('enter password:-')\n",
    "                         \n",
    "if username =='shabi' and password=='shabi25':\n",
    "   print('welcome',username)\n",
    "else:\n",
    "    print('Invalid username or password')\n"
   ]
  },
  {
   "cell_type": "code",
   "execution_count": null,
   "metadata": {},
   "outputs": [],
   "source": [
    "# Flow Control statements\n",
    "\n",
    "+for loop\n",
    "\n",
    "### Syntax\n",
    "\n",
    "for variable in range(inclisive,exclusive,step):\n",
    "  print(variable)\n",
    "  "
   ]
  },
  {
   "cell_type": "code",
   "execution_count": 14,
   "metadata": {},
   "outputs": [
    {
     "name": "stdout",
     "output_type": "stream",
     "text": [
      "0b 1b 2b 3b 4b 5b 6b 7b 8b 9b 10b 11b 12b 13b 14b 15b 16b 17b 18b 19b 20b 21b 22b 23b 24b 25b 26b 27b 28b 29b 30b 31b 32b 33b 34b 35b 36b 37b 38b 39b 40b 41b 42b 43b 44b 45b 46b 47b 48b 49b 50b 51b 52b 53b 54b 55b 56b 57b 58b 59b 60b 61b 62b 63b 64b 65b 66b 67b 68b 69b 70b 71b 72b 73b 74b 75b 76b 77b 78b 79b 80b 81b 82b 83b 84b 85b 86b 87b 88b 89b 90b 91b 92b 93b 94b 95b 96b 97b 98b 99b 100b 1,2,3,4,5,6,7,8,9,10,11,12,13,14,15,16,17,18,19,20,21,22,23,24,25,26,27,28,29,30,31,32,33,34,35,36,37,38,39,40,41,42,43,44,45,46,47,48,49,50,51-->50-->49-->48-->47-->46-->45-->44-->43-->42-->41-->40-->39-->38-->37-->36-->35-->34-->33-->32-->31-->30-->29-->28-->27-->26-->25-->24-->23-->22-->21-->20-->19-->18-->17-->16-->15-->14-->13-->12-->11-->10-->9-->8-->7-->6-->5-->4-->3-->2-->"
     ]
    }
   ],
   "source": [
    "#for loop \n",
    "for i in range(101):\n",
    "     print(i,end=\"b \")\n",
    "        # with inclusive\n",
    "for j in range (1,50+1):\n",
    "    print(j,end=\",\")\n",
    "    # Reverse numbers\n",
    "for k in range (51,1,-1):\n",
    "    print(k,end=\"-->\")\n",
    "    "
   ]
  },
  {
   "cell_type": "code",
   "execution_count": 15,
   "metadata": {},
   "outputs": [
    {
     "name": "stdout",
     "output_type": "stream",
     "text": [
      "0,2,4,6,8,10,12,14,16,18,20,22,24,26,28,30,32,34,36,38,40,42,44,46,48,50,52,54,56,58,60,62,64,66,68,70,72,74,76,78,80,82,84,86,88,90,92,94,96,98,100,"
     ]
    }
   ],
   "source": [
    "# evennumbers using for loop\n",
    "for l in range(0,101,2):\n",
    "    print(l,end=',')"
   ]
  },
  {
   "cell_type": "code",
   "execution_count": null,
   "metadata": {},
   "outputs": [],
   "source": [
    "\n"
   ]
  },
  {
   "cell_type": "code",
   "execution_count": null,
   "metadata": {},
   "outputs": [],
   "source": []
  },
  {
   "cell_type": "code",
   "execution_count": null,
   "metadata": {},
   "outputs": [],
   "source": []
  }
 ],
 "metadata": {
  "kernelspec": {
   "display_name": "Python 3",
   "language": "python",
   "name": "python3"
  },
  "language_info": {
   "codemirror_mode": {
    "name": "ipython",
    "version": 3
   },
   "file_extension": ".py",
   "mimetype": "text/x-python",
   "name": "python",
   "nbconvert_exporter": "python",
   "pygments_lexer": "ipython3",
   "version": "3.8.5"
  }
 },
 "nbformat": 4,
 "nbformat_minor": 4
}
